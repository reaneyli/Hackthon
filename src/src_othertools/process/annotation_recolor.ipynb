{
 "cells": [
  {
   "cell_type": "code",
   "execution_count": 1,
   "metadata": {},
   "outputs": [
    {
     "name": "stdout",
     "output_type": "stream",
     "text": [
      "D:\\ProgramData\\Anaconda3\\lib\\site-packages\\neuro_morpho_toolbox-0.1-py3.7.egg\\neuro_morpho_toolbox\\\n",
      "Loading CCF Atlas data...\n",
      "Loading time: 0.45\n",
      "Loading CCF brain structure data...\n",
      "Loading time: 0.00\n",
      "Loading selected CCF Atlas and Contour data...\n",
      "Loading time: 0.84\n"
     ]
    }
   ],
   "source": [
    "import numpy as np\n",
    "import pandas as pd\n",
    "import SimpleITK as sitk\n",
    "import matplotlib.pyplot as plt\n",
    "import neuro_morpho_toolbox as nmt"
   ]
  },
  {
   "cell_type": "code",
   "execution_count": 2,
   "metadata": {},
   "outputs": [
    {
     "data": {
      "text/html": [
       "<div>\n",
       "<style scoped>\n",
       "    .dataframe tbody tr th:only-of-type {\n",
       "        vertical-align: middle;\n",
       "    }\n",
       "\n",
       "    .dataframe tbody tr th {\n",
       "        vertical-align: top;\n",
       "    }\n",
       "\n",
       "    .dataframe thead th {\n",
       "        text-align: right;\n",
       "    }\n",
       "</style>\n",
       "<table border=\"1\" class=\"dataframe\">\n",
       "  <thead>\n",
       "    <tr style=\"text-align: right;\">\n",
       "      <th></th>\n",
       "      <th>Acronym</th>\n",
       "      <th>red</th>\n",
       "      <th>green</th>\n",
       "      <th>blue</th>\n",
       "    </tr>\n",
       "    <tr>\n",
       "      <th>ID</th>\n",
       "      <th></th>\n",
       "      <th></th>\n",
       "      <th></th>\n",
       "      <th></th>\n",
       "    </tr>\n",
       "  </thead>\n",
       "  <tbody>\n",
       "    <tr>\n",
       "      <th>997</th>\n",
       "      <td>root</td>\n",
       "      <td>255</td>\n",
       "      <td>255</td>\n",
       "      <td>255</td>\n",
       "    </tr>\n",
       "    <tr>\n",
       "      <th>8</th>\n",
       "      <td>grey</td>\n",
       "      <td>191</td>\n",
       "      <td>218</td>\n",
       "      <td>227</td>\n",
       "    </tr>\n",
       "    <tr>\n",
       "      <th>567</th>\n",
       "      <td>CH</td>\n",
       "      <td>176</td>\n",
       "      <td>240</td>\n",
       "      <td>255</td>\n",
       "    </tr>\n",
       "    <tr>\n",
       "      <th>688</th>\n",
       "      <td>CTX</td>\n",
       "      <td>176</td>\n",
       "      <td>255</td>\n",
       "      <td>184</td>\n",
       "    </tr>\n",
       "    <tr>\n",
       "      <th>695</th>\n",
       "      <td>CTXpl</td>\n",
       "      <td>112</td>\n",
       "      <td>255</td>\n",
       "      <td>112</td>\n",
       "    </tr>\n",
       "  </tbody>\n",
       "</table>\n",
       "</div>"
      ],
      "text/plain": [
       "    Acronym  red  green  blue\n",
       "ID                           \n",
       "997    root  255    255   255\n",
       "8      grey  191    218   227\n",
       "567      CH  176    240   255\n",
       "688     CTX  176    255   184\n",
       "695   CTXpl  112    255   112"
      ]
     },
     "execution_count": 2,
     "metadata": {},
     "output_type": "execute_result"
    }
   ],
   "source": [
    "mouse = pd.read_csv(\"Mouse.csv\", usecols=[1,2,4,5,6], index_col=[0])\n",
    "mouse.head()"
   ]
  },
  {
   "cell_type": "code",
   "execution_count": null,
   "metadata": {},
   "outputs": [],
   "source": []
  },
  {
   "cell_type": "code",
   "execution_count": 3,
   "metadata": {},
   "outputs": [
    {
     "name": "stdout",
     "output_type": "stream",
     "text": [
      "3\n",
      "(528, 320, 456)\n",
      "(25.0, 25.0, 25.0)\n"
     ]
    }
   ],
   "source": [
    "img1 = sitk.ReadImage(\"./annotation_25.nrrd\") # load annotation brain\n",
    "print(img1.GetDimension())\n",
    "print(img1.GetSize())\n",
    "print(img1.GetSpacing())\n",
    "\n",
    "array1 = sitk.GetArrayFromImage(img1)"
   ]
  },
  {
   "cell_type": "code",
   "execution_count": 4,
   "metadata": {},
   "outputs": [],
   "source": [
    "value, counts = np.unique(array1, return_counts=True) # value: get annotated brain id in annotation brain\n",
    "uid = [i for i in value if i in mouse.index.tolist()] # uid：select brain id that exist in both annotation brain and mouse.csv\n",
    "# print(len(value), len(uid))"
   ]
  },
  {
   "cell_type": "code",
   "execution_count": 18,
   "metadata": {},
   "outputs": [
    {
     "name": "stdout",
     "output_type": "stream",
     "text": [
      "brain region  528   in brain region  512\n",
      "brain region  1089   in brain region  688\n"
     ]
    }
   ],
   "source": [
    "# go to Mouse.csv and select re-color region's id \n",
    "\n",
    "# eg: \n",
    "# CTX: 688\n",
    "# LSX: 275\n",
    "# TH: 549\n",
    "# HPF: 1089\n",
    "# HY: 1097\n",
    "# CBX: 528\n",
    "# CP: 672\n",
    "# MB: 313\n",
    "\n",
    "# put the selected ID into a list\n",
    "areas_ids=[512,688,343,56,275,1089,528,672, 275]\n",
    "\n",
    "childs={}# to save each brain area's child brain region id \n",
    "for area in areas_ids:\n",
    "    childs[area]=(nmt.bs.get_all_child_id(area))\n",
    "    for area_ in areas_ids:\n",
    "        if area_==area:\n",
    "            continue\n",
    "        else:\n",
    "            if area_ in childs[area]: # \n",
    "                print(\"brain region \",area_,\"  in brain region \",area)\n",
    "array2 = np.zeros(list(array1.shape)+[3], dtype=np.int16) # init a brain array2 with zero"
   ]
  },
  {
   "cell_type": "code",
   "execution_count": 19,
   "metadata": {},
   "outputs": [
    {
     "name": "stdout",
     "output_type": "stream",
     "text": [
      "dict_keys([512, 688, 343, 56, 275, 1089, 528, 672])\n"
     ]
    }
   ],
   "source": [
    "print(childs.keys()) # make sure that big brain region is recolor first and its child brain region get recolored later"
   ]
  },
  {
   "cell_type": "code",
   "execution_count": 20,
   "metadata": {},
   "outputs": [
    {
     "name": "stdout",
     "output_type": "stream",
     "text": [
      "512\n",
      "688\n",
      "343\n",
      "56\n",
      "275\n",
      "1089\n",
      "528\n",
      "672\n"
     ]
    }
   ],
   "source": [
    "child_uids=[] # final brain region id list (to be recolor)\n",
    "for k,v in childs.items():\n",
    "    print(k)\n",
    "    child_uids.append([i for i in uid if (i in v)])"
   ]
  },
  {
   "cell_type": "code",
   "execution_count": null,
   "metadata": {},
   "outputs": [],
   "source": []
  },
  {
   "cell_type": "code",
   "execution_count": null,
   "metadata": {},
   "outputs": [],
   "source": []
  },
  {
   "cell_type": "code",
   "execution_count": 21,
   "metadata": {},
   "outputs": [
    {
     "name": "stdout",
     "output_type": "stream",
     "text": [
      "255 253 188\n",
      "24 128 100\n",
      "255 76 62\n",
      "128 205 248\n",
      "144 203 237\n",
      "126 208 75\n",
      "255 252 145\n",
      "152 214 249\n"
     ]
    }
   ],
   "source": [
    "for child_uid in child_uids:\n",
    "    print(mouse.loc[int(child_uid[0]), \"red\"], mouse.loc[int(child_uid[0]), \"green\"], mouse.loc[int(child_uid[0]), \"blue\"])\n",
    "    for cur_id in child_uid:\n",
    "        idx = np.where(array1==cur_id)\n",
    "        array2[idx[0], idx[1], idx[2], 0] = mouse.loc[int(child_uid[0]), \"red\"]\n",
    "        array2[idx[0], idx[1], idx[2], 1] = mouse.loc[int(child_uid[0]), \"green\"]\n",
    "        array2[idx[0], idx[1], idx[2], 2] = mouse.loc[int(child_uid[0]), \"blue\"]\n",
    "\n",
    "# \n",
    "\n",
    "img2 = sitk.GetImageFromArray(array2)\n",
    "sitk.WriteImage(img2, \"annotation_recolor.nrrd\")"
   ]
  },
  {
   "cell_type": "code",
   "execution_count": null,
   "metadata": {},
   "outputs": [],
   "source": []
  }
 ],
 "metadata": {
  "kernelspec": {
   "display_name": "Python 3",
   "language": "python",
   "name": "python3"
  },
  "language_info": {
   "codemirror_mode": {
    "name": "ipython",
    "version": 3
   },
   "file_extension": ".py",
   "mimetype": "text/x-python",
   "name": "python",
   "nbconvert_exporter": "python",
   "pygments_lexer": "ipython3",
   "version": "3.7.7"
  }
 },
 "nbformat": 4,
 "nbformat_minor": 2
}
